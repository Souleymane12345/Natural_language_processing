{
 "cells": [
  {
   "cell_type": "code",
   "execution_count": 1,
   "metadata": {},
   "outputs": [
    {
     "name": "stdout",
     "output_type": "stream",
     "text": [
      "le carré de  0 est 0\n",
      "le carré de  1 est 1\n",
      "le carré de  2 est 4\n",
      "le carré de  3 est 9\n",
      "le carré de  4 est 16\n",
      "le carré de  5 est 25\n",
      "le carré de  6 est 36\n",
      "le carré de  7 est 49\n",
      "le carré de  8 est 64\n",
      "le carré de  9 est 81\n"
     ]
    }
   ],
   "source": [
    "for n in range(10):\n",
    "    u = n * n\n",
    "    print(\"le carré de \", n , \"est\", u)"
   ]
  },
  {
   "cell_type": "code",
   "execution_count": 3,
   "metadata": {},
   "outputs": [
    {
     "name": "stdout",
     "output_type": "stream",
     "text": [
      "[[0.6656291  0.5914757  0.21344736]\n",
      " [0.85714308 0.26310134 0.83091172]\n",
      " [0.91912764 0.38296824 0.26659118]\n",
      " [0.28520347 0.15081622 0.58646166]\n",
      " [0.91696696 0.17849181 0.32593242]\n",
      " [0.46963367 0.43099968 0.18512525]\n",
      " [0.02964169 0.38648695 0.19742304]\n",
      " [0.51496444 0.01068604 0.13688018]\n",
      " [0.36423371 0.59677189 0.55116275]\n",
      " [0.29862486 0.00725724 0.68033819]]\n"
     ]
    }
   ],
   "source": [
    "import numpy as np\n",
    "X = np.random.random((10, 3))\n",
    "print(X)"
   ]
  },
  {
   "cell_type": "code",
   "execution_count": 10,
   "metadata": {},
   "outputs": [
    {
     "name": "stdout",
     "output_type": "stream",
     "text": [
      "2\n"
     ]
    }
   ],
   "source": [
    "for i in range(2 ,100):\n",
    "    print(i)\n",
    "    break"
   ]
  },
  {
   "cell_type": "code",
   "execution_count": 15,
   "metadata": {},
   "outputs": [
    {
     "name": "stdout",
     "output_type": "stream",
     "text": [
      "1\n",
      "5\n",
      "10\n",
      "15\n",
      "On stoppe la bouble\n"
     ]
    }
   ],
   "source": [
    "liste = [1,5,10,15,20,25]\n",
    "for i in liste :\n",
    "    if i > 15 :\n",
    "        print (\"On stoppe la bouble\")\n",
    "        break\n",
    "    print(i)"
   ]
  },
  {
   "cell_type": "code",
   "execution_count": null,
   "metadata": {},
   "outputs": [
    {
     "name": "stdout",
     "output_type": "stream",
     "text": [
      "entrez un nombre strictrmrnt positif-45\n",
      "erreur ,  le nombre entré est négatif recommencé SVP-12\n",
      "erreur ,  le nombre entré est négatif recommencé SVP-9\n"
     ]
    }
   ],
   "source": [
    "n = int(input(\"entrez un nombre strictrmrnt positif\"))\n",
    "while n < 0 :\n",
    "    n = int(input(\"erreur ,  le nombre entré est négatif recommencé SVP\"))\n",
    "    "
   ]
  },
  {
   "cell_type": "code",
   "execution_count": null,
   "metadata": {},
   "outputs": [],
   "source": [
    "n = int(input(\"entrez un nombre strictrmrnt positif\"))\n",
    "while n < 0 :\n",
    "    n = int(input(\"erreur ,  le nombre entré est négatif recommencez SVP\"))"
   ]
  },
  {
   "cell_type": "code",
   "execution_count": null,
   "metadata": {},
   "outputs": [],
   "source": [
    "n = (input(\"entrez un nombre strictrmrnt positif\"))\n",
    "while n < 15 :\n",
    "    n = (input(\"erreur ,  le nombre entré est négatif recommencez SVP\"))\n",
    "    print(n)"
   ]
  },
  {
   "cell_type": "code",
   "execution_count": null,
   "metadata": {},
   "outputs": [],
   "source": [
    "def "
   ]
  }
 ],
 "metadata": {
  "kernelspec": {
   "display_name": "Python 3",
   "language": "python",
   "name": "python3"
  },
  "language_info": {
   "codemirror_mode": {
    "name": "ipython",
    "version": 3
   },
   "file_extension": ".py",
   "mimetype": "text/x-python",
   "name": "python",
   "nbconvert_exporter": "python",
   "pygments_lexer": "ipython3",
   "version": "3.7.4"
  }
 },
 "nbformat": 4,
 "nbformat_minor": 2
}
